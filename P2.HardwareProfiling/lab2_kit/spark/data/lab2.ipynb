{
 "cells": [
  {
   "cell_type": "markdown",
   "metadata": {},
   "source": [
    "## Hardware Profiling Data\n",
    "\n",
    "| **Size** | **Index** | **Stride** | **Elapsed(s)** | **Cycles** | **Accesses** | **Mean Access Time** | **Mean Access Time (ns)** | **Size (KiB)** |\n",
    "|:--------:|:---------:|:----------:|:--------------:|:----------:|:------------:|:---------------------:|:-------------------------:|:--------------:|\n",
    "| 4096     | 5.5       | 341.25     | 0.000886       | 886.533    | 409600       | 2.164022e-09          | 2.164022                 | 4              |\n",
    "| 8192     | 18.0      | 630.08     | 0.001368       | 1367.615   | 819200       | 1.669509e-09          | 1.669509                 | 8              |\n",
    "| 16384    | 31.5      | 1170.21    | 0.002730       | 2729.571   | 1638400      | 1.666051e-09          | 1.666051                 | 16             |\n",
    "| 32768    | 46.0      | 2184.47    | 0.005293       | 5292.600   | 3276800      | 1.615153e-09          | 1.615153                 | 32             |\n",
    "| 65536    | 61.5      | 4095.94    | 0.011531       | 11531.33   | 6553600      | 1.759552e-09          | 1.759552                 | 64             |\n",
    "| 131072   | 78.0      | 7710.06    | 0.024807       | 24807.39   | 13107200     | 1.892647e-09          | 1.892647                 | 128            |\n",
    "| 262144   | 95.5      | 14563.50   | 0.059498       | 59497.41   | 26214400     | 2.269651e-09          | 2.269651                 | 256            |\n",
    "| 524288   | 114.0     | 27594.05   | 0.133323       | 133322.9   | 52428800     | 2.542933e-09          | 2.542933                 | 512            |\n",
    "| 1048576  | 133.5     | 52428.75   | 0.356586       | 356586.0   | 104857600    | 3.400669e-09          | 3.400669                 | 1024           |\n",
    "| 2097152  | 154.0     | 99864.33   | 0.928892       | 928891.6   | 209715200    | 4.429300e-09          | 4.429300                 | 2048           |\n",
    "| 4194304  | 175.5     | 190650.14  | 2.061072       | 2061072.0  | 419430400    | 4.913978e-09          | 4.913978                 | 4096           |\n",
    "\n",
    "\n",
    "32KB because the average access time increases when switching from 16 to 32, signaling that the cache got full between the accesses.\n",
    "\n",
    "\n",
    "\n",
    "\n",
    "64KB"
   ]
  },
  {
   "cell_type": "markdown",
   "metadata": {},
   "source": [
    "cache_size=8192 stride=1        avg_misses=0.000264     avg_time=0.002724\n",
    "cache_size=8192 stride=2        avg_misses=0.000166     avg_time=0.002849\n",
    "cache_size=8192 stride=4        avg_misses=0.000154     avg_time=0.002870\n",
    "cache_size=8192 stride=8        avg_misses=0.000117     avg_time=0.002855\n",
    "cache_size=8192 stride=16       avg_misses=0.000093     avg_time=0.002861\n",
    "cache_size=8192 stride=32       avg_misses=0.000111     avg_time=0.002802\n",
    "cache_size=8192 stride=64       avg_misses=0.000123     avg_time=0.002435\n",
    "cache_size=8192 stride=128      avg_misses=0.000049     avg_time=0.002096\n",
    "cache_size=8192 stride=256      avg_misses=0.000027     avg_time=0.001999\n",
    "cache_size=8192 stride=512      avg_misses=0.000029     avg_time=0.001987\n",
    "cache_size=8192 stride=1024     avg_misses=0.000014     avg_time=0.001954\n",
    "cache_size=8192 stride=2048     avg_misses=0.000009     avg_time=0.002079\n",
    "cache_size=8192 stride=4096     avg_misses=0.000007     avg_time=0.002117\n",
    "cache_size=16384        stride=1        avg_misses=0.000236     avg_time=0.002316\n",
    "cache_size=16384        stride=2        avg_misses=0.000181     avg_time=0.002283\n",
    "cache_size=16384        stride=4        avg_misses=0.000213     avg_time=0.002318\n",
    "cache_size=16384        stride=8        avg_misses=0.000213     avg_time=0.002248\n",
    "cache_size=16384        stride=16       avg_misses=0.000222     avg_time=0.002262\n",
    "cache_size=16384        stride=32       avg_misses=0.000210     avg_time=0.002264\n",
    "cache_size=16384        stride=64       avg_misses=0.000197     avg_time=0.002188\n",
    "cache_size=16384        stride=128      avg_misses=0.000098     avg_time=0.002186\n",
    "cache_size=16384        stride=256      avg_misses=0.000047     avg_time=0.002049\n",
    "cache_size=16384        stride=512      avg_misses=0.000038     avg_time=0.001999\n",
    "cache_size=16384        stride=1024     avg_misses=0.000012     avg_time=0.001987\n",
    "cache_size=16384        stride=2048     avg_misses=0.000011     avg_time=0.002083\n",
    "cache_size=16384        stride=4096     avg_misses=0.000009     avg_time=0.002173\n",
    "cache_size=16384        stride=8192     avg_misses=0.000006     avg_time=0.002078\n",
    "cache_size=32768        stride=1        avg_misses=0.001508     avg_time=0.002237\n",
    "cache_size=32768        stride=2        avg_misses=0.001847     avg_time=0.002231\n",
    "cache_size=32768        stride=4        avg_misses=0.002714     avg_time=0.002233\n",
    "cache_size=32768        stride=8        avg_misses=0.004311     avg_time=0.002202\n",
    "cache_size=32768        stride=16       avg_misses=0.007330     avg_time=0.002220\n",
    "cache_size=32768        stride=32       avg_misses=0.008834     avg_time=0.002262\n",
    "cache_size=32768        stride=64       avg_misses=0.007835     avg_time=0.002195\n",
    "cache_size=32768        stride=128      avg_misses=0.000564     avg_time=0.002199\n",
    "cache_size=32768        stride=256      avg_misses=0.000326     avg_time=0.002180\n",
    "cache_size=32768        stride=512      avg_misses=0.000164     avg_time=0.002059\n",
    "cache_size=32768        stride=1024     avg_misses=0.000068     avg_time=0.001997\n",
    "cache_size=32768        stride=2048     avg_misses=0.000029     avg_time=0.002045\n",
    "cache_size=32768        stride=4096     avg_misses=0.000023     avg_time=0.002188\n",
    "cache_size=32768        stride=8192     avg_misses=0.000008     avg_time=0.002173\n",
    "cache_size=32768        stride=16384    avg_misses=0.000004     avg_time=0.002078\n",
    "cache_size=65536        stride=1        avg_misses=0.015657     avg_time=0.001980\n",
    "cache_size=65536        stride=2        avg_misses=0.031300     avg_time=0.001891\n",
    "cache_size=65536        stride=4        avg_misses=0.062641     avg_time=0.002149\n",
    "cache_size=65536        stride=8        avg_misses=0.125328     avg_time=0.002247\n",
    "cache_size=65536        stride=16       avg_misses=0.250570     avg_time=0.002149\n",
    "cache_size=65536        stride=32       avg_misses=0.501047     avg_time=0.002247\n",
    "cache_size=65536        stride=64       avg_misses=0.999965     avg_time=0.001823\n",
    "cache_size=65536        stride=128      avg_misses=1.024172     avg_time=0.001876\n",
    "cache_size=65536        stride=256      avg_misses=1.038428     avg_time=0.001910\n",
    "cache_size=65536        stride=512      avg_misses=1.052016     avg_time=0.001933\n",
    "cache_size=65536        stride=1024     avg_misses=1.009858     avg_time=0.001878\n",
    "cache_size=65536        stride=2048     avg_misses=1.000565     avg_time=0.002212\n",
    "cache_size=65536        stride=4096     avg_misses=1.041723     avg_time=0.005053\n",
    "cache_size=65536        stride=8192     avg_misses=0.000023     avg_time=0.002188\n",
    "cache_size=65536        stride=16384    avg_misses=0.000007     avg_time=0.002166\n",
    "cache_size=65536        stride=32768    avg_misses=0.000002     avg_time=0.002078"
   ]
  },
  {
   "cell_type": "markdown",
   "metadata": {
    "vscode": {
     "languageId": "plaintext"
    }
   },
   "source": [
    "## 3.1.1\n",
    "\n",
    "__a)__ \n",
    "The provided code snippet is also present in cm1.c. The cm1.c program analyses the PAPI_L1_DCM processor by anaylsing it's event, L1 Cache Misses. \n",
    "When we try to fetch data, if it's not present in the L1 cache, it'll be loaded from a lower level of memory. This will result in Processor Stalls: while the data is being fetched from a lower level, the processor will either execute other instructions or stall. \n",
    "This results in overall decrease of efficiency.\n",
    "\n",
    "\n",
    "__b)__\n",
    "\n",
    "\n",
    "__c)__\n",
    "\n",
    "When the array size is 64KiB the miss rate increases a great amount while compared ro the other array sizes' miss rates. This indicates that 32KiB is the bigest array size that can fit into the cache; concluding that this cache has a size of 32KiB.\n",
    "For a exceding capacity array (64KiB) the miss rate becomes equal to 1 when the stride is equal to 64, this means that every 64th element in the array belongs in a new cache line resulting in a cache miss every time. It can be only concluded that the line size is 64B since the word size is equal to 1B.\n"
   ]
  },
  {
   "cell_type": "markdown",
   "metadata": {},
   "source": [
    "## 3.1.2\n",
    "\n",
    "__a)__ We changed the events type count from **PAPI_L1_DCM** to **PAPI_L2_DCM**, the values of **CACHE_MIN** to 64 KiB (the first value when we started having cache misses in L1) and **CACHE_MAX** to 1MB because greater values have a greater chance to trigger cache misses.\n",
    "\n",
    "__b)__\n",
    "\n",
    "__c)__ \n",
    "we can see two great jumps in miss rate values in the graph, one between __128KiB__ and __256KiB__ and the other one bewteen __256KiB__ and __512KiB__. The latter one is much more significant which could mean the cache was fully filled. Concluding that the L2 cache size is __256KiB__.\n",
    "\n",
    "Since the miss rate values start stabilizing around stride values of __256__, we can conclude the block size is __256B__.\n"
   ]
  }
 ],
 "metadata": {
  "language_info": {
   "name": "python"
  }
 },
 "nbformat": 4,
 "nbformat_minor": 2
}
